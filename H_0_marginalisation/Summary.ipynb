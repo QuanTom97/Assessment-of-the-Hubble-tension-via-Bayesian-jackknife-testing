{
 "cells": [
  {
   "cell_type": "markdown",
   "id": "525dc597",
   "metadata": {},
   "source": [
    "# Generate marginalise H_0 plot\n",
    "\n",
    "This section plots the combined estimate H_0 plot\n",
    "This is related to Figure 8 in the paper"
   ]
  },
  {
   "cell_type": "code",
   "execution_count": null,
   "id": "87317cd3-d253-4507-b0d2-220c95b5403c",
   "metadata": {},
   "outputs": [],
   "source": [
    "import numpy as np\n",
    "import matplotlib.pyplot as plt\n",
    "from anesthetic import read_chains\n",
    "from anesthetic.samples import merge_samples_weighted\n",
    "from anesthetic.utils import iso_probability_contours\n",
    "from scipy.stats import gaussian_kde\n",
    "from itertools import groupby\n",
    "from operator import itemgetter"
   ]
  },
  {
   "cell_type": "code",
   "execution_count": null,
   "id": "24df3635-0361-449f-9b81-347c06b951ab",
   "metadata": {},
   "outputs": [
    {
     "name": "stdout",
     "output_type": "stream",
     "text": [
      "[all] H0 = 70.22 ± 1.93 km s^-1 Mpc^-1  (68% credible)\n"
     ]
    },
    {
     "data": {
      "image/png": "[encoded data removed]",
      "text/plain": [
       "<Figure size 640x480 with 1 Axes>"
      ]
     },
     "metadata": {},
     "output_type": "display_data"
    }
   ],
   "source": [
    "# Define chain groups with labels and paths to PolyChord outputs\n",
    "# Each group can include multiple hypotheses for comparison\n",
    "chain_groups = {\n",
    "    'all': [\n",
    "        \"/home/quantom97/PolyChordLite/my_tests/new_H0/initial_test/LDL Confident/chains/gaussian\",\n",
    "        \"/home/quantom97/PolyChordLite/my_tests/new_H0/initial_test/CMB/chains/gaussian\",\n",
    "        \"/home/quantom97/PolyChordLite/my_tests/new_H0/initial_test/CMB Confident/chains/gaussian\",\n",
    "        \"/home/quantom97/PolyChordLite/my_tests/new_H0/initial_test/LDL/chains/gaussian\",\n",
    "        \"/home/quantom97/PolyChordLite/my_tests/new_H0/initial_test/Both Biased/chains/gaussian\",\n",
    "        \"/home/quantom97/PolyChordLite/my_tests/new_H0/initial_test/Faster Early/chains/gaussian\",\n",
    "        \"/home/quantom97/PolyChordLite/my_tests/new_H0/initial_test/Faster Everywhere/chains/gaussian\",\n",
    "    ]\n",
    "}\n",
    "\n",
    "# Define color palette for plotting\n",
    "colors = ['#1bacae']\n",
    "\n",
    "# Loop through chain groups and generate 1D posterior plots for H0\n",
    "for i, (label, paths) in enumerate(chain_groups.items()):\n",
    "    # Load chains from file paths\n",
    "    chains = [read_chains(path) for path in paths]\n",
    "\n",
    "    # Merge samples across chains if needed\n",
    "    samples = merge_samples_weighted(chains)\n",
    "\n",
    "    # Plot 1D marginal posterior for parameter p0 (H0)\n",
    "    samples.plot_1d(['p0'], label=label, color=colors[i % len(colors)])\n",
    "\n",
    "    # Customize plot labels and style\n",
    "    plt.ylabel('Posterior')\n",
    "    plt.xlabel(r'$H_0\\; [\\mathrm{km}\\ \\mathrm{s}^{-1}\\ \\mathrm{Mpc}^{-1}]$')\n",
    "    plt.ylim(0, 1)\n",
    "    plt.yticks([0, 0.2, 0.4, 0.6, 0.8, 1.0])\n",
    "    plt.gca().tick_params(axis='x', which='minor', bottom=False)\n",
    "    plt.minorticks_on()\n",
    "\n",
    "# Adjust layout and save figure\n",
    "plt.tight_layout()\n",
    "plt.savefig(\"marginalised_H0.pdf\", bbox_inches=\"tight\", dpi=300)\n",
    "plt.show()\n"
   ]
  },
  {
   "cell_type": "markdown",
   "id": "430442e2",
   "metadata": {},
   "source": [
    "# Credible Intervals\n",
    "\n",
    "This is just how to calculate the CL's if you need to"
   ]
  },
  {
   "cell_type": "code",
   "execution_count": null,
   "id": "a7301e71-7d33-41cb-9f32-a87ac0fd304b",
   "metadata": {},
   "outputs": [
    {
     "name": "stdout",
     "output_type": "stream",
     "text": [
      "[all] 68% max-prob interval: 69.04 ± 1.81  (67.23–70.85)\n",
      "[all] 95% max-prob interval: 69.69 ± 3.00  (66.69–72.69)\n"
     ]
    }
   ],
   "source": [
    "# Define chain groups with labels and corresponding PolyChord output paths\n",
    "chain_groups = {\n",
    "    'all': [\n",
    "        \"/home/quantom97/PolyChordLite/my_tests/new_H0/initial_test/LDL Confident/chains/gaussian\",\n",
    "        \"/home/quantom97/PolyChordLite/my_tests/new_H0/initial_test/CMB/chains/gaussian\",\n",
    "        \"/home/quantom97/PolyChordLite/my_tests/new_H0/initial_test/CMB Confident/chains/gaussian\",\n",
    "        \"/home/quantom97/PolyChordLite/my_tests/new_H0/initial_test/LDL/chains/gaussian\",\n",
    "        \"/home/quantom97/PolyChordLite/my_tests/new_H0/initial_test/Both Biased/chains/gaussian\",\n",
    "        \"/home/quantom97/PolyChordLite/my_tests/new_H0/initial_test/Faster Early/chains/gaussian\",\n",
    "        \"/home/quantom97/PolyChordLite/my_tests/new_H0/initial_test/Faster Everywhere/chains/gaussian\",\n",
    "    ]\n",
    "}\n",
    "\n",
    "\n",
    "def _interval_from_mask(xgrid, pdf_norm, mask):\n",
    "    \"\"\"\n",
    "    Compute the lowest and highest values of a contiguous interval \n",
    "    corresponding to the provided boolean mask. The interval chosen \n",
    "    is the one containing the largest probability mass.\n",
    "\n",
    "    Parameters\n",
    "    ----------\n",
    "    xgrid : array-like\n",
    "        Grid of parameter values.\n",
    "    pdf_norm : array-like\n",
    "        Normalized probability density function evaluated on xgrid.\n",
    "    mask : array-like (bool)\n",
    "        Boolean mask indicating region above threshold.\n",
    "\n",
    "    Returns\n",
    "    -------\n",
    "    lo, hi : float\n",
    "        Lower and upper bounds of the interval.\n",
    "    \"\"\"\n",
    "    idx = np.where(mask)[0]\n",
    "    if idx.size == 0:\n",
    "        return np.nan, np.nan\n",
    "\n",
    "    best = (None, None, -np.inf)\n",
    "    # Iterate over contiguous regions in mask\n",
    "    for _, grp in groupby(enumerate(idx), key=lambda t: t[0] - t[1]):\n",
    "        g = list(map(itemgetter(1), grp))\n",
    "        s, e = g[0], g[-1] + 1\n",
    "        # Compute probability mass within this segment\n",
    "        mass = np.trapz(pdf_norm[s:e], xgrid[s:e])\n",
    "        if mass > best[2]:\n",
    "            best = (s, e, mass)\n",
    "\n",
    "    s, e, _ = best\n",
    "    return xgrid[s], xgrid[e - 1]\n",
    "\n",
    "\n",
    "def _print_interval(label, p, lo, hi):\n",
    "    \"\"\"\n",
    "    Print formatted credible interval for a given probability level.\n",
    "\n",
    "    Parameters\n",
    "    ----------\n",
    "    label : str\n",
    "        Label for the chain group.\n",
    "    p : float\n",
    "        Probability level (e.g. 0.68 or 0.95).\n",
    "    lo, hi : float\n",
    "        Lower and upper bounds of the interval.\n",
    "    \"\"\"\n",
    "    c = 0.5 * (lo + hi)  # central value\n",
    "    h = 0.5 * (hi - lo)  # half-width\n",
    "    print(f\"[{label}] {int(p*100)}% max-prob interval: {c:.2f} ± {h:.2f}  ({lo:.2f}–{hi:.2f})\")\n",
    "\n",
    "\n",
    "# Loop through each chain group and compute intervals\n",
    "for label, paths in chain_groups.items():\n",
    "    # Read and merge chains (weights=None => use evidences)\n",
    "    chains = [read_chains(path) for path in paths]\n",
    "    merged_samples = merge_samples_weighted(chains, weights=None, label=label)\n",
    "\n",
    "    # Extract parameter samples (H0 stored in 'p0') and weights\n",
    "    x = merged_samples['p0'].values\n",
    "    w = merged_samples.get_weights()\n",
    "\n",
    "    # Perform weighted kernel density estimation (KDE)\n",
    "    xgrid = np.linspace(x.min(), x.max(), 1000)\n",
    "    kde = gaussian_kde(x, weights=w)\n",
    "    pdf = kde(xgrid)\n",
    "    pdf = pdf / np.trapz(pdf, xgrid)  # normalise to unit integral\n",
    "\n",
    "    # Compute and print 68% credible interval\n",
    "    level_68 = iso_probability_contours(pdf, contours=[0.68])[0]\n",
    "    mask_68 = pdf >= level_68\n",
    "    lo68, hi68 = _interval_from_mask(xgrid, pdf, mask_68)\n",
    "    _print_interval(label, 0.68, lo68, hi68)\n",
    "\n",
    "    # Compute and print 95% credible interval\n",
    "    level_95 = iso_probability_contours(pdf, contours=[0.95])[0]\n",
    "    mask_95 = pdf >= level_95\n",
    "    lo95, hi95 = _interval_from_mask(xgrid, pdf, mask_95)\n",
    "    _print_interval(label, 0.95, lo95, hi95)\n"
   ]
  }
 ],
 "metadata": {
  "kernelspec": {
   "display_name": "Python 3 (ipykernel)",
   "language": "python",
   "name": "python3"
  },
  "language_info": {
   "codemirror_mode": {
    "name": "ipython",
    "version": 3
   },
   "file_extension": ".py",
   "mimetype": "text/x-python",
   "name": "python",
   "nbconvert_exporter": "python",
   "pygments_lexer": "ipython3",
   "version": "3.10.14"
  }
 },
 "nbformat": 4,
 "nbformat_minor": 5
}
